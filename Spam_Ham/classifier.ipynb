{
 "cells": [
  {
   "cell_type": "markdown",
   "metadata": {},
   "source": [
    "## SPAM/HAM CLASSIFIER USING NAIVE BAYES"
   ]
  },
  {
   "cell_type": "markdown",
   "metadata": {},
   "source": [
    "#### Steps to be followed:\n",
    "1. Preprocess the data.\n",
    "    1. Remove repeated entries if exists\n",
    "    2. Remove punctuation\n",
    "    3. Remove not relevant special characters \n",
    "    4. Obtain a list of clean text words \t\n",
    "2. Split train and test dataset \n",
    "3. Create the model (convert strings to integer counts, obtain frequency of the words and create the model using Naïve Bayes formula).\n",
    "4. Test the model. \n",
    "5. Create a confusion matrix on your prediction for test dataset. \n",
    "6. Make analysis report for your model and results. "
   ]
  },
  {
   "cell_type": "markdown",
   "metadata": {},
   "source": [
    "####  DATA PREPROCESSING"
   ]
  },
  {
   "cell_type": "code",
   "execution_count": 1,
   "metadata": {},
   "outputs": [],
   "source": [
    "import numpy as np\n",
    "import pandas as pd\n",
    "import matplotlib.pyplot as plt"
   ]
  },
  {
   "cell_type": "code",
   "execution_count": 2,
   "metadata": {},
   "outputs": [
    {
     "data": {
      "text/html": [
       "<div>\n",
       "<style scoped>\n",
       "    .dataframe tbody tr th:only-of-type {\n",
       "        vertical-align: middle;\n",
       "    }\n",
       "\n",
       "    .dataframe tbody tr th {\n",
       "        vertical-align: top;\n",
       "    }\n",
       "\n",
       "    .dataframe thead th {\n",
       "        text-align: right;\n",
       "    }\n",
       "</style>\n",
       "<table border=\"1\" class=\"dataframe\">\n",
       "  <thead>\n",
       "    <tr style=\"text-align: right;\">\n",
       "      <th></th>\n",
       "      <th>label</th>\n",
       "      <th>text</th>\n",
       "    </tr>\n",
       "  </thead>\n",
       "  <tbody>\n",
       "    <tr>\n",
       "      <th>0</th>\n",
       "      <td>ham</td>\n",
       "      <td>Go until jurong point, crazy.. Available only ...</td>\n",
       "    </tr>\n",
       "    <tr>\n",
       "      <th>1</th>\n",
       "      <td>ham</td>\n",
       "      <td>Ok lar... Joking wif u oni...</td>\n",
       "    </tr>\n",
       "    <tr>\n",
       "      <th>2</th>\n",
       "      <td>spam</td>\n",
       "      <td>Free entry in 2 a wkly comp to win FA Cup fina...</td>\n",
       "    </tr>\n",
       "    <tr>\n",
       "      <th>3</th>\n",
       "      <td>ham</td>\n",
       "      <td>U dun say so early hor... U c already then say...</td>\n",
       "    </tr>\n",
       "    <tr>\n",
       "      <th>4</th>\n",
       "      <td>ham</td>\n",
       "      <td>Nah I don't think he goes to usf, he lives aro...</td>\n",
       "    </tr>\n",
       "  </tbody>\n",
       "</table>\n",
       "</div>"
      ],
      "text/plain": [
       "  label                                               text\n",
       "0   ham  Go until jurong point, crazy.. Available only ...\n",
       "1   ham                      Ok lar... Joking wif u oni...\n",
       "2  spam  Free entry in 2 a wkly comp to win FA Cup fina...\n",
       "3   ham  U dun say so early hor... U c already then say...\n",
       "4   ham  Nah I don't think he goes to usf, he lives aro..."
      ]
     },
     "execution_count": 2,
     "metadata": {},
     "output_type": "execute_result"
    }
   ],
   "source": [
    "#import the dataset with proper encoding :\n",
    "dataset = pd.read_csv('spam_ham_data_set.csv', encoding='latin-1')\n",
    "dataset = dataset[[\"v1\",\"v2\"]]\n",
    "dataset = dataset.rename(columns={\"v1\":\"label\", \"v2\":\"text\"})\n",
    "dataset.head()"
   ]
  },
  {
   "cell_type": "code",
   "execution_count": 3,
   "metadata": {},
   "outputs": [
    {
     "name": "stdout",
     "output_type": "stream",
     "text": [
      "<class 'pandas.core.frame.DataFrame'>\n",
      "RangeIndex: 5572 entries, 0 to 5571\n",
      "Data columns (total 2 columns):\n",
      "label    5572 non-null object\n",
      "text     5572 non-null object\n",
      "dtypes: object(2)\n",
      "memory usage: 87.2+ KB\n",
      "None\n",
      "ham     4825\n",
      "spam     747\n",
      "Name: label, dtype: int64\n"
     ]
    },
    {
     "data": {
      "image/png": "[encoded data removed]",
      "text/plain": [
       "<Figure size 432x432 with 1 Axes>"
      ]
     },
     "metadata": {},
     "output_type": "display_data"
    }
   ],
   "source": [
    "print(dataset.info())\n",
    "print(dataset.label.value_counts())\n",
    "\n",
    "dataset[\"label\"].value_counts().plot(kind = 'pie', explode = [0, 0.1], figsize = (6, 6), autopct = '%1.1f%%', shadow = True)\n",
    "plt.ylabel(\"Spam vs Ham\")\n",
    "plt.legend([\"Ham\", \"Spam\"])\n",
    "plt.show()"
   ]
  },
  {
   "cell_type": "code",
   "execution_count": 4,
   "metadata": {},
   "outputs": [
    {
     "name": "stdout",
     "output_type": "stream",
     "text": [
      "                                                    len  amax\n",
      "text                                                         \n",
      "Sorry, I'll call later                               30   ham\n",
      "I cant pick the phone right now. Pls send a mes...   12   ham\n",
      "Ok...                                                10   ham\n",
      "Your opinion about me? 1. Over 2. Jada 3. Kusru...    4   ham\n",
      "Wen ur lovable bcums angry wid u, dnt take it s...    4   ham\n",
      "Please call our customer service representative...    4  spam\n",
      "Okie                                                  4   ham\n",
      "Say this slowly.? GOD,I LOVE YOU &amp; I NEED Y...    4   ham\n",
      "7 wonders in My WORLD 7th You 6th Ur style 5th ...    4   ham\n",
      "Ok.                                                   4   ham\n",
      "(4888, 2)\n"
     ]
    }
   ],
   "source": [
    "#picking up a few top messages and erasing all the duplicates in them\n",
    "top = dataset.groupby(\"text\")[\"label\"].agg([len, np.max]).sort_values(by = \"len\", ascending = False).head(n = 10)\n",
    "print(top)\n",
    "dataset.drop_duplicates(keep=False, inplace=True)\n",
    "print(dataset.shape)"
   ]
  },
  {
   "cell_type": "code",
   "execution_count": 5,
   "metadata": {},
   "outputs": [],
   "source": [
    "#nltk : Natural language toolkit : tokenize and clean the data\n",
    "import string\n",
    "from nltk.corpus import stopwords\n",
    "from nltk.stem import SnowballStemmer\n",
    "stemmer = SnowballStemmer(\"english\")    #for crude estimation to root words"
   ]
  },
  {
   "cell_type": "markdown",
   "metadata": {},
   "source": [
    "Imported the text preprocessing libraries and cleaning up the dataset by removing all punctuation marks"
   ]
  },
  {
   "cell_type": "code",
   "execution_count": 6,
   "metadata": {},
   "outputs": [],
   "source": [
    "def cleanText(msg):\n",
    "    msg = msg.translate(str.maketrans('', '', string.punctuation))\n",
    "    words = [stemmer.stem(word) for word in msg.split() if word.lower() not in stopwords.words(\"english\")]\n",
    "    return \" \".join(words)"
   ]
  },
  {
   "cell_type": "code",
   "execution_count": 7,
   "metadata": {},
   "outputs": [
    {
     "data": {
      "text/html": [
       "<div>\n",
       "<style scoped>\n",
       "    .dataframe tbody tr th:only-of-type {\n",
       "        vertical-align: middle;\n",
       "    }\n",
       "\n",
       "    .dataframe tbody tr th {\n",
       "        vertical-align: top;\n",
       "    }\n",
       "\n",
       "    .dataframe thead th {\n",
       "        text-align: right;\n",
       "    }\n",
       "</style>\n",
       "<table border=\"1\" class=\"dataframe\">\n",
       "  <thead>\n",
       "    <tr style=\"text-align: right;\">\n",
       "      <th></th>\n",
       "      <th>label</th>\n",
       "      <th>text</th>\n",
       "    </tr>\n",
       "  </thead>\n",
       "  <tbody>\n",
       "    <tr>\n",
       "      <th>0</th>\n",
       "      <td>ham</td>\n",
       "      <td>go jurong point crazi avail bugi n great world...</td>\n",
       "    </tr>\n",
       "    <tr>\n",
       "      <th>1</th>\n",
       "      <td>ham</td>\n",
       "      <td>ok lar joke wif u oni</td>\n",
       "    </tr>\n",
       "    <tr>\n",
       "      <th>3</th>\n",
       "      <td>ham</td>\n",
       "      <td>u dun say earli hor u c alreadi say</td>\n",
       "    </tr>\n",
       "    <tr>\n",
       "      <th>4</th>\n",
       "      <td>ham</td>\n",
       "      <td>nah dont think goe usf live around though</td>\n",
       "    </tr>\n",
       "    <tr>\n",
       "      <th>5</th>\n",
       "      <td>spam</td>\n",
       "      <td>freemsg hey darl 3 week word back id like fun ...</td>\n",
       "    </tr>\n",
       "  </tbody>\n",
       "</table>\n",
       "</div>"
      ],
      "text/plain": [
       "  label                                               text\n",
       "0   ham  go jurong point crazi avail bugi n great world...\n",
       "1   ham                              ok lar joke wif u oni\n",
       "3   ham                u dun say earli hor u c alreadi say\n",
       "4   ham          nah dont think goe usf live around though\n",
       "5  spam  freemsg hey darl 3 week word back id like fun ..."
      ]
     },
     "execution_count": 7,
     "metadata": {},
     "output_type": "execute_result"
    }
   ],
   "source": [
    "dataset[\"text\"] = dataset[\"text\"].apply(cleanText)\n",
    "dataset = dataset[[\"label\",\"text\"]]\n",
    "dataset.head()"
   ]
  },
  {
   "cell_type": "code",
   "execution_count": 8,
   "metadata": {},
   "outputs": [],
   "source": [
    "#Creating the dependent and independent variables\n",
    "X = dataset.iloc[:,1].values\n",
    "y = dataset.iloc[:,0].values"
   ]
  },
  {
   "cell_type": "code",
   "execution_count": 9,
   "metadata": {},
   "outputs": [],
   "source": [
    "#Splitting into training set and test set\n",
    "from sklearn.model_selection import train_test_split\n",
    "text_train, text_test, label_train, label_test = train_test_split(X, y, test_size = 0.2, random_state = 42)"
   ]
  },
  {
   "cell_type": "code",
   "execution_count": 10,
   "metadata": {},
   "outputs": [
    {
     "data": {
      "text/plain": [
       "3910"
      ]
     },
     "metadata": {},
     "output_type": "display_data"
    },
    {
     "data": {
      "text/plain": [
       "978"
      ]
     },
     "metadata": {},
     "output_type": "display_data"
    },
    {
     "data": {
      "text/plain": [
       "3910"
      ]
     },
     "metadata": {},
     "output_type": "display_data"
    },
    {
     "data": {
      "text/plain": [
       "978"
      ]
     },
     "metadata": {},
     "output_type": "display_data"
    }
   ],
   "source": [
    "display(len(text_train))\n",
    "display(len(text_test))\n",
    "display(len(label_train))\n",
    "display(len(label_test))"
   ]
  },
  {
   "cell_type": "markdown",
   "metadata": {},
   "source": [
    "#### CREATING DICTIONARIES"
   ]
  },
  {
   "cell_type": "code",
   "execution_count": 11,
   "metadata": {},
   "outputs": [
    {
     "data": {
      "text/plain": [
       "41"
      ]
     },
     "execution_count": 11,
     "metadata": {},
     "output_type": "execute_result"
    }
   ],
   "source": [
    "#Dictionary of all words\n",
    "messages = dataset.text.values\n",
    "words_all = []\n",
    "for message in messages:\n",
    "    words_all += (message.split(\" \"))\n",
    "unique_words = set(words_all)\n",
    "dictionary_words = {i:words_all.count(i) for i in unique_words}\n",
    "dictionary_words['hello']"
   ]
  },
  {
   "cell_type": "code",
   "execution_count": 12,
   "metadata": {},
   "outputs": [
    {
     "data": {
      "text/plain": [
       "35"
      ]
     },
     "execution_count": 12,
     "metadata": {},
     "output_type": "execute_result"
    }
   ],
   "source": [
    "#Dictionary of all spam words\n",
    "spam_messages = dataset.text.values[dataset.label == \"spam\"]\n",
    "spam_words = []\n",
    "for spam in spam_messages:\n",
    "    spam_words += (spam.split(\" \"))\n",
    "unique_spam_words = set(spam_words)\n",
    "dictionary_spam = {i:spam_words.count(i) for i in unique_spam_words}\n",
    "dictionary_spam['win']"
   ]
  },
  {
   "cell_type": "code",
   "execution_count": 13,
   "metadata": {},
   "outputs": [
    {
     "data": {
      "text/plain": [
       "194"
      ]
     },
     "execution_count": 13,
     "metadata": {},
     "output_type": "execute_result"
    }
   ],
   "source": [
    "#Dictionary of all ham words\n",
    "ham_messages = dataset.text.values[dataset.label == \"ham\"]\n",
    "ham_words = []\n",
    "for ham in ham_messages:\n",
    "    ham_words += (ham.split(\" \"))\n",
    "unique_ham_words = set(ham_words)\n",
    "dictionary_ham = {i:ham_words.count(i) for i in unique_ham_words}\n",
    "dictionary_ham['love']"
   ]
  },
  {
   "cell_type": "code",
   "execution_count": 14,
   "metadata": {},
   "outputs": [
    {
     "name": "stdout",
     "output_type": "stream",
     "text": [
      "44161 9226 34935\n"
     ]
    }
   ],
   "source": [
    "total_words = len(words_all)\n",
    "total_spam = len(spam_words)\n",
    "total_ham = len(ham_words)\n",
    "print(total_words, total_spam, total_ham)"
   ]
  },
  {
   "cell_type": "markdown",
   "metadata": {},
   "source": [
    "#### FINDING PROBABILITIES AND LAPLACE SMOOTHING"
   ]
  },
  {
   "cell_type": "markdown",
   "metadata": {},
   "source": [
    "Now we perform the following steps:\n",
    "\n",
    "1. Find Different Probabilities:\n",
    "    1. Prior probabilities\n",
    "    2. Likelihood\n",
    "    3. Marginal Likelihood\n",
    "2. Do laplace smoothing to avoid the zero denominator case\n",
    "3. Apply the Naive bayes theorem"
   ]
  },
  {
   "cell_type": "code",
   "execution_count": 15,
   "metadata": {},
   "outputs": [],
   "source": [
    "def prob_spam(word):\n",
    "    return (dictionary_spam[word]/total_spam) \n",
    "\n",
    "def prob_ham(word):\n",
    "    return dictionary_ham[word]/total_ham \n",
    "\n",
    "def prob_word(word):\n",
    "    try:\n",
    "        return dictionary_words[word]/total_words\n",
    "    except KeyError:\n",
    "        return 0.000000001 \n",
    "\n",
    "def prob_msg_spam(message):\n",
    "    num = den = 1\n",
    "    for word in message.split():\n",
    "        if word in spam_words:\n",
    "            num *= prob_spam(word)\n",
    "            den *= prob_word(word)\n",
    "    \n",
    "    # Laplace Smoothing step \n",
    "    if den==0:\n",
    "        num+=1\n",
    "        den+=1\n",
    "    return num/den\n",
    "\n",
    "def prob_msg_ham(message): \n",
    "    num = den = 1\n",
    "    for word in message.split():\n",
    "        if word in ham_words:\n",
    "            num *= prob_ham(word)\n",
    "            den *= prob_word(word)\n",
    "    # Laplace Smoothing step\n",
    "    if den==0:\n",
    "        num+=1\n",
    "        den+=1\n",
    "    return num/den\n",
    "\n",
    "def spam_pred(msg):\n",
    "    if prob_msg_spam(msg) >= prob_msg_ham(msg):\n",
    "        return \"spam\"\n",
    "    else:\n",
    "        return \"ham\""
   ]
  },
  {
   "cell_type": "markdown",
   "metadata": {},
   "source": [
    "#### GENERATING CONFUSION MATRIX AND DETERMINING ACCURACY"
   ]
  },
  {
   "cell_type": "markdown",
   "metadata": {},
   "source": [
    "The above probability functions are used by us to create the confusion matrix to find the accuracy"
   ]
  },
  {
   "cell_type": "code",
   "execution_count": 16,
   "metadata": {},
   "outputs": [],
   "source": [
    "def accuracy(text_test, label_test):\n",
    "    false_positive = false_negative = 0 \n",
    "    true_positive = true_negative = 0\n",
    "    for i,m in enumerate(text_test):\n",
    "        predicted = spam_pred(m)\n",
    "        actual = label_test[i]\n",
    "        if predicted == \"spam\" and actual == \"spam\":\n",
    "            true_negative+=1\n",
    "        if predicted == \"spam\" and actual == \"ham\":\n",
    "            false_negative+=1\n",
    "        if predicted == \"ham\" and actual == \"spam\":\n",
    "            false_positive+=1\n",
    "        if predicted == \"ham\" and actual == \"ham\":\n",
    "            true_positive+=1\n",
    "    acc = (true_negative+true_positive)/len(text_test)\n",
    "    return acc, false_positive, false_negative, true_positive, true_negative"
   ]
  },
  {
   "cell_type": "code",
   "execution_count": 17,
   "metadata": {},
   "outputs": [
    {
     "name": "stdout",
     "output_type": "stream",
     "text": [
      "The accuracy of the classifier is: 94.68302658486708 %\n"
     ]
    }
   ],
   "source": [
    "acc,fp,fn,tp,tn = accuracy(text_test,label_test)\n",
    "print(\"The accuracy of the classifier is: \" + str(acc*100) + \" %\") "
   ]
  },
  {
   "cell_type": "code",
   "execution_count": 18,
   "metadata": {},
   "outputs": [
    {
     "name": "stdout",
     "output_type": "stream",
     "text": [
      "True positive:  832 \n",
      " False positive:  4 \n",
      " False Negative:  48 \n",
      " True Negative:  94\n"
     ]
    }
   ],
   "source": [
    "print(\"True positive: \",tp,\"\\n False positive: \",fp,\"\\n False Negative: \",fn,\"\\n True Negative: \",tn)   "
   ]
  },
  {
   "cell_type": "markdown",
   "metadata": {},
   "source": [
    "Thus, we create our classifier easily, on Naiive Bayes Theorem, with an accuracy of 94.683% "
   ]
  },
  {
   "cell_type": "markdown",
   "metadata": {},
   "source": []
  },
  {
   "cell_type": "code",
   "execution_count": null,
   "metadata": {},
   "outputs": [],
   "source": []
  }
 ],
 "metadata": {
  "kernelspec": {
   "display_name": "Python 3",
   "language": "python",
   "name": "python3"
  },
  "language_info": {
   "codemirror_mode": {
    "name": "ipython",
    "version": 3
   },
   "file_extension": ".py",
   "mimetype": "text/x-python",
   "name": "python",
   "nbconvert_exporter": "python",
   "pygments_lexer": "ipython3",
   "version": "3.7.4"
  }
 },
 "nbformat": 4,
 "nbformat_minor": 4
}
